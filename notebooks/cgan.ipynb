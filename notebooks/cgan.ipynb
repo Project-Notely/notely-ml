{
 "cells": [
  {
   "cell_type": "markdown",
   "metadata": {},
   "source": [
    "### Prep data"
   ]
  },
  {
   "cell_type": "code",
   "execution_count": 1,
   "metadata": {},
   "outputs": [],
   "source": [
    "import os\n",
    "import pandas as pd\n",
    "from PIL import Image\n",
    "from torchvision import transforms\n",
    "from torch.utils.data import Dataset\n",
    "\n",
    "# paths to the dataset\n",
    "root_dir = 'data/IAM'\n",
    "forms_file = os.path.join(root_dir, 'ascii/forms.txt')\n",
    "images_dir = os.path.join(root_dir, 'forms')\n",
    "\n",
    "# parse 'forms.txt' to extract metadata\n",
    "def parse_forms_file(forms_file):\n",
    "    with open(forms_file, 'r') as f:\n",
    "        lines = f.readlines()\n",
    "    data = []\n",
    "    for line in lines:\n",
    "        if line.startswith('#'):\n",
    "            continue\n",
    "        fields = line.strip().split()\n",
    "        img_file, writer_id, text = fields[0], fields[1], ' '.join(fields[2:])\n",
    "        data.append({'image': img_file + '.png', 'writer': writer_id, 'text': text})\n",
    "    return pd.DataFrame(data)\n",
    "\n",
    "# create a filtered dataset for a single writer\n",
    "def filter_dataset_by_writer(dataframe, writer_id):\n",
    "    return dataframe[dataframe['writer'] == writer_id]\n",
    "\n",
    "# parse and filter dataset\n",
    "data = parse_forms_file(forms_file)\n",
    "filtered_data = filter_dataset_by_writer(data, writer_id='0001')"
   ]
  },
  {
   "cell_type": "markdown",
   "metadata": {},
   "source": [
    "### Dataset Class"
   ]
  },
  {
   "cell_type": "code",
   "execution_count": null,
   "metadata": {},
   "outputs": [],
   "source": [
    "class IAMDataset(Dataset):\n",
    "    def __init__(self, dataframe, images_dir, transform=None):\n",
    "        self.dataframe = dataframe\n",
    "        self.images_dir = images_dir\n",
    "        self.transform = transform\n",
    "\n",
    "    def __len__(self):\n",
    "        return len(self.dataframe)\n",
    "\n",
    "    def __getitem__(self, idx):\n",
    "        row = self.dataframe.iloc[idx]\n",
    "        img_path = os.path.join(self.images_dir, row['image'])\n",
    "        img = Image.open(img_path).convert('L')\n",
    "        if self.transform:\n",
    "            img = self.transform(img)\n",
    "        label = row['text']\n",
    "        style_id = row['writer']  # style embedding can be one-hot or latent vector\n",
    "        return img, label, style_id"
   ]
  },
  {
   "cell_type": "code",
   "execution_count": null,
   "metadata": {},
   "outputs": [],
   "source": [
    "from torch.utils.data import DataLoader\n",
    "\n",
    "transform = transforms.Compose([\n",
    "    transforms.Resize((64, 64)),\n",
    "    transforms.ToTensor(),\n",
    "    transforms.Normalize([0.5], [0.5])  # normalize to [-1, 1]\n",
    "])\n",
    "\n",
    "dataset = IAMDataset(filtered_data, images_dir, transform=transform)\n",
    "dataloader = DataLoader(dataset, batch_size=32, shuffle=True)\n"
   ]
  },
  {
   "cell_type": "markdown",
   "metadata": {},
   "source": [
    "### Define Models"
   ]
  },
  {
   "cell_type": "code",
   "execution_count": null,
   "metadata": {},
   "outputs": [],
   "source": [
    "import torch\n",
    "import torch.nn as nn\n",
    "import torch.nn.functional as F\n",
    "\n",
    "class Generator(nn.Module):\n",
    "    def __init__(self, noise_dim, text_dim, style_dim, img_size):\n",
    "        super(Generator, self).__init__()\n",
    "        self.fc = nn.Sequential(\n",
    "            nn.Linear(noise_dim + text_dim + style_dim, 128),\n",
    "            nn.ReLU(),\n",
    "            nn.Linear(128, 256),\n",
    "            nn.ReLU(),\n",
    "            nn.Linear(256, 512),\n",
    "            nn.ReLU(),\n",
    "            nn.Linear(512, img_size * img_size),\n",
    "            nn.Tanh()  # Output normalized to [-1, 1]\n",
    "        )\n",
    "        self.img_size = img_size\n",
    "\n",
    "    def forward(self, noise, text_emb, style_emb):\n",
    "        x = torch.cat([noise, text_emb, style_emb], dim=1)\n",
    "        x = self.fc(x)\n",
    "        return x.view(-1, 1, self.img_size, self.img_size)"
   ]
  },
  {
   "cell_type": "code",
   "execution_count": null,
   "metadata": {},
   "outputs": [],
   "source": [
    "class Discriminator(nn.Module):\n",
    "    def __init__(self, text_dim, style_dim, img_size):\n",
    "        super(Discriminator, self).__init__()\n",
    "        self.fc = nn.Sequential(\n",
    "            nn.Linear(1 * img_size * img_size + text_dim + style_dim, 512),\n",
    "            nn.LeakyReLU(0.2),\n",
    "            nn.Linear(512, 256),\n",
    "            nn.LeakyReLU(0.2),\n",
    "            nn.Linear(256, 1),\n",
    "            nn.Sigmoid()  # Output probability\n",
    "        )\n",
    "        self.img_size = img_size\n",
    "\n",
    "    def forward(self, img, text_emb, style_emb):\n",
    "        img_flat = img.view(img.size(0), -1)\n",
    "        x = torch.cat([img_flat, text_emb, style_emb], dim=1)\n",
    "        return self.fc(x)"
   ]
  },
  {
   "cell_type": "markdown",
   "metadata": {},
   "source": [
    "### Training"
   ]
  },
  {
   "cell_type": "code",
   "execution_count": null,
   "metadata": {},
   "outputs": [],
   "source": [
    "device = torch.device('cuda' if torch.cuda.is_available() else 'cpu')\n",
    "\n",
    "# init models\n",
    "generator = Generator(noise_dim=100, text_dim=50, style_dim=10, img_size=64).to(device)\n",
    "discriminator = Discriminator(text_dim=50, style_dim=10, img_size=64).to(device)"
   ]
  }
 ],
 "metadata": {
  "kernelspec": {
   "display_name": ".venv",
   "language": "python",
   "name": "python3"
  },
  "language_info": {
   "codemirror_mode": {
    "name": "ipython",
    "version": 3
   },
   "file_extension": ".py",
   "mimetype": "text/x-python",
   "name": "python",
   "nbconvert_exporter": "python",
   "pygments_lexer": "ipython3",
   "version": "3.12.8"
  }
 },
 "nbformat": 4,
 "nbformat_minor": 2
}
