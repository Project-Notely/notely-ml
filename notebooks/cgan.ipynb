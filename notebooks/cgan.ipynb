{
 "cells": [
  {
   "cell_type": "code",
   "execution_count": 28,
   "metadata": {},
   "outputs": [],
   "source": [
    "import torch\n",
    "import torch.nn as nn\n",
    "import torch.nn.functional as F\n",
    "import torch.optim as optim\n",
    "from torch.utils.data import Dataset, DataLoader\n",
    "from torchvision.utils import save_image\n",
    "from torchvision import transforms\n",
    "from PIL import Image"
   ]
  },
  {
   "cell_type": "code",
   "execution_count": 29,
   "metadata": {},
   "outputs": [],
   "source": [
    "class Generator(nn.Module):\n",
    "    def __init__(self, noise_dim, text_dim, style_dim, img_size):\n",
    "        super(Generator, self).__init__()\n",
    "        self.fc = nn.Sequential(\n",
    "            nn.Linear(noise_dim + text_dim + style_dim, 128),\n",
    "            nn.ReLU(),\n",
    "            nn.Linear(128, 256),\n",
    "            nn.ReLU(),\n",
    "            nn.Linear(256, 512),\n",
    "            nn.ReLU(),\n",
    "            nn.Linear(512, img_size * img_size),\n",
    "            nn.Tanh()  # Output normalized to [-1, 1]\n",
    "        )\n",
    "        self.img_size = img_size\n",
    "\n",
    "    def forward(self, noise, text_emb, style_emb):\n",
    "        x = torch.cat([noise, text_emb, style_emb], dim=1)\n",
    "        x = self.fc(x)\n",
    "        return x.view(-1, 1, self.img_size, self.img_size)"
   ]
  },
  {
   "cell_type": "code",
   "execution_count": 30,
   "metadata": {},
   "outputs": [],
   "source": [
    "class Discriminator(nn.Module):\n",
    "    def __init__(self, text_dim, style_dim, img_size):\n",
    "        super(Discriminator, self).__init__()\n",
    "        self.fc = nn.Sequential(\n",
    "            nn.Linear(1 * img_size * img_size + text_dim + style_dim, 512),\n",
    "            nn.LeakyReLU(0.2),\n",
    "            nn.Linear(512, 256),\n",
    "            nn.LeakyReLU(0.2),\n",
    "            nn.Linear(256, 1),\n",
    "            nn.Sigmoid()  # Output probability\n",
    "        )\n",
    "        self.img_size = img_size\n",
    "\n",
    "    def forward(self, img, text_emb, style_emb):\n",
    "        img_flat = img.view(img.size(0), -1)\n",
    "        x = torch.cat([img_flat, text_emb, style_emb], dim=1)\n",
    "        return self.fc(x)\n"
   ]
  },
  {
   "cell_type": "code",
   "execution_count": 31,
   "metadata": {},
   "outputs": [],
   "source": [
    "class HandwritingDataset(Dataset):\n",
    "    def __init__(self, img_paths, labels, styles, transform=None):\n",
    "        self.img_paths = img_paths\n",
    "        self.labels = labels\n",
    "        self.styles = styles\n",
    "        self.transform = transform\n",
    "\n",
    "    def __len__(self):\n",
    "        return len(self.img_paths)\n",
    "\n",
    "    def __getitem__(self, idx):\n",
    "        img = Image.open(self.img_paths[idx])\n",
    "        if self.transform:\n",
    "            img = self.transform(img)\n",
    "        label = self.labels[idx]\n",
    "        style = self.styles[idx]\n",
    "        return img, label, style"
   ]
  },
  {
   "cell_type": "code",
   "execution_count": 35,
   "metadata": {},
   "outputs": [],
   "source": [
    "img_size = 64\n",
    "noise_dim = 100\n",
    "text_dim = 50\n",
    "style_dim = 50\n",
    "batch_size = 64\n",
    "num_epochs = 100\n",
    "lr = 0.0002\n",
    "\n",
    "# Initialize models\n",
    "generator = Generator(noise_dim, text_dim, style_dim, img_size)\n",
    "discriminator = Discriminator(text_dim, style_dim, img_size)\n",
    "\n",
    "# Optimizers\n",
    "optimizer_G = optim.Adam(generator.parameters(), lr=lr, betas=(0.5, 0.999))\n",
    "optimizer_D = optim.Adam(discriminator.parameters(), lr=lr, betas=(0.5, 0.999))\n",
    "\n",
    "adversarial_loss = nn.BCELoss()"
   ]
  },
  {
   "cell_type": "code",
   "execution_count": 34,
   "metadata": {},
   "outputs": [],
   "source": [
    "# Example usage\n",
    "transform = transforms.Compose([\n",
    "    transforms.Grayscale(),\n",
    "    transforms.Resize((img_size, img_size)),\n",
    "    transforms.ToTensor(),\n",
    "    transforms.Normalize([0.5], [0.5])  # Normalize to [-1, 1]\n",
    "])\n",
    "\n",
    "img_paths = ['../data/a.png']\n",
    "text_embeddings = torch.randn(len(img_paths), text_dim)\n",
    "style_embeddings = torch.randn(len(img_paths), style_dim)\n",
    "\n",
    "dataset = HandwritingDataset(img_paths, text_embeddings, style_embeddings, transform=transform)\n",
    "dataloader = DataLoader(dataset, batch_size=batch_size, shuffle=True)"
   ]
  }
 ],
 "metadata": {
  "kernelspec": {
   "display_name": ".venv",
   "language": "python",
   "name": "python3"
  },
  "language_info": {
   "codemirror_mode": {
    "name": "ipython",
    "version": 3
   },
   "file_extension": ".py",
   "mimetype": "text/x-python",
   "name": "python",
   "nbconvert_exporter": "python",
   "pygments_lexer": "ipython3",
   "version": "3.12.8"
  }
 },
 "nbformat": 4,
 "nbformat_minor": 2
}
